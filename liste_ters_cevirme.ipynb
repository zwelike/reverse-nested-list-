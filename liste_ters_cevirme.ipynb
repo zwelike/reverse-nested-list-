{
 "cells": [
  {
   "cell_type": "code",
   "execution_count": 3,
   "id": "672a3e3a-a86f-4a76-9d52-7a5c06e8652f",
   "metadata": {},
   "outputs": [
    {
     "name": "stdout",
     "output_type": "stream",
     "text": [
      "Tersine çevrilmiş liste: [[457, 610, 57], [354, 53], [209, 1345]]\n"
     ]
    }
   ],
   "source": [
    "# Liste ve alt listeleri tersine çeviren fonksiyon\n",
    "def reverse_nested(liste):\n",
    "    reversed_list = []\n",
    "    for item in reversed(liste):\n",
    "        if isinstance(item, list):\n",
    "            reversed_list.append(reverse_nested(item))\n",
    "        else:\n",
    "            reversed_list.append(item)\n",
    "    return reversed_list\n",
    "\n",
    "#  Örnek veri\n",
    "veri = [[1345, 209], [53, 354], [57, 610, 457]]\n",
    "\n",
    "# Fonksiyon çağrısı\n",
    "sonuc = reverse_nested(veri)\n",
    "\n",
    "# Sonuç yazdır\n",
    "print(\"Tersine çevrilmiş liste:\", sonuc)\n"
   ]
  },
  {
   "cell_type": "code",
   "execution_count": null,
   "id": "5f2283b3-2ca2-4fe9-a100-87fc7256018b",
   "metadata": {},
   "outputs": [],
   "source": []
  }
 ],
 "metadata": {
  "kernelspec": {
   "display_name": "Python 3 (ipykernel)",
   "language": "python",
   "name": "python3"
  },
  "language_info": {
   "codemirror_mode": {
    "name": "ipython",
    "version": 3
   },
   "file_extension": ".py",
   "mimetype": "text/x-python",
   "name": "python",
   "nbconvert_exporter": "python",
   "pygments_lexer": "ipython3",
   "version": "3.12.4"
  }
 },
 "nbformat": 4,
 "nbformat_minor": 5
}
